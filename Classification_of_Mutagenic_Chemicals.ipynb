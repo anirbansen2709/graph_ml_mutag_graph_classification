{
  "nbformat": 4,
  "nbformat_minor": 0,
  "metadata": {
    "colab": {
      "name": "Classification of Mutagenic Chemicals.ipynb",
      "provenance": [],
      "collapsed_sections": [],
      "authorship_tag": "ABX9TyMXh3gbpZvjOE26w5Z5KTtq",
      "include_colab_link": true
    },
    "kernelspec": {
      "name": "python3",
      "display_name": "Python 3"
    },
    "language_info": {
      "name": "python"
    },
    "accelerator": "GPU"
  },
  "cells": [
    {
      "cell_type": "markdown",
      "metadata": {
        "id": "view-in-github",
        "colab_type": "text"
      },
      "source": [
        "<a href=\"https://colab.research.google.com/github/anirbansen2709/graph_ml_mutag_graph_classification/blob/main/Classification_of_Mutagenic_Chemicals.ipynb\" target=\"_parent\"><img src=\"https://colab.research.google.com/assets/colab-badge.svg\" alt=\"Open In Colab\"/></a>"
      ]
    },
    {
      "cell_type": "code",
      "execution_count": 3,
      "metadata": {
        "colab": {
          "base_uri": "https://localhost:8080/"
        },
        "id": "gvDCczQogUCZ",
        "outputId": "fd759a21-5314-4c11-c296-b666d638c5bb"
      },
      "outputs": [
        {
          "output_type": "stream",
          "name": "stdout",
          "text": [
            "Looking in indexes: https://pypi.org/simple, https://us-python.pkg.dev/colab-wheels/public/simple/\n",
            "Requirement already satisfied: networkx in /usr/local/lib/python3.7/dist-packages (2.6.3)\n",
            "Looking in indexes: https://pypi.org/simple, https://us-python.pkg.dev/colab-wheels/public/simple/\n",
            "Collecting dgl\n",
            "  Downloading dgl-0.6.1-cp37-cp37m-manylinux1_x86_64.whl (4.4 MB)\n",
            "\u001b[K     |████████████████████████████████| 4.4 MB 30.4 MB/s \n",
            "\u001b[?25hRequirement already satisfied: requests>=2.19.0 in /usr/local/lib/python3.7/dist-packages (from dgl) (2.23.0)\n",
            "Requirement already satisfied: numpy>=1.14.0 in /usr/local/lib/python3.7/dist-packages (from dgl) (1.21.6)\n",
            "Requirement already satisfied: networkx>=2.1 in /usr/local/lib/python3.7/dist-packages (from dgl) (2.6.3)\n",
            "Requirement already satisfied: scipy>=1.1.0 in /usr/local/lib/python3.7/dist-packages (from dgl) (1.4.1)\n",
            "Requirement already satisfied: chardet<4,>=3.0.2 in /usr/local/lib/python3.7/dist-packages (from requests>=2.19.0->dgl) (3.0.4)\n",
            "Requirement already satisfied: urllib3!=1.25.0,!=1.25.1,<1.26,>=1.21.1 in /usr/local/lib/python3.7/dist-packages (from requests>=2.19.0->dgl) (1.24.3)\n",
            "Requirement already satisfied: idna<3,>=2.5 in /usr/local/lib/python3.7/dist-packages (from requests>=2.19.0->dgl) (2.10)\n",
            "Requirement already satisfied: certifi>=2017.4.17 in /usr/local/lib/python3.7/dist-packages (from requests>=2.19.0->dgl) (2022.5.18.1)\n",
            "Installing collected packages: dgl\n",
            "Successfully installed dgl-0.6.1\n",
            "Looking in indexes: https://pypi.org/simple, https://us-python.pkg.dev/colab-wheels/public/simple/\n",
            "Requirement already satisfied: torch in /usr/local/lib/python3.7/dist-packages (1.11.0+cu113)\n",
            "Requirement already satisfied: typing-extensions in /usr/local/lib/python3.7/dist-packages (from torch) (4.2.0)\n"
          ]
        }
      ],
      "source": [
        "!pip install networkx\n",
        "!pip install dgl\n",
        "!pip install torch"
      ]
    },
    {
      "cell_type": "code",
      "source": [
        "import torch\n",
        "\n",
        "# Check for GPU\n",
        "if torch.cuda.is_available():\n",
        "    print('Default GPU Device : {}'.format(torch.cuda.get_device_name(0)))\n",
        "    device = torch.device('cuda')\n",
        "else:\n",
        "    print('No GPU available')\n",
        "    device = torch.device('cpu')\n",
        "    \n",
        "print(device)"
      ],
      "metadata": {
        "colab": {
          "base_uri": "https://localhost:8080/"
        },
        "id": "XfxnWWV5gae-",
        "outputId": "efca795c-e97b-4d64-97ab-81aadc04edd4"
      },
      "execution_count": 4,
      "outputs": [
        {
          "output_type": "stream",
          "name": "stdout",
          "text": [
            "Default GPU Device : Tesla T4\n",
            "cuda\n"
          ]
        }
      ]
    },
    {
      "cell_type": "code",
      "source": [
        "from sklearn.model_selection import train_test_split\n",
        "import pandas as pd\n",
        "import csv"
      ],
      "metadata": {
        "id": "vCvhdZpbArir"
      },
      "execution_count": 41,
      "outputs": []
    },
    {
      "cell_type": "markdown",
      "source": [
        "### MUTAG Dataset\n",
        "\n",
        "In genetics, a mutagen is a physical or chemical agent that changes the genetic material, usually DNA, of an organism and thus increases the frequency of mutations above the natural background level. As many mutations can cause cancer, mutagens are therefore also likely to be carcinogens, although not always necessarily so. All mutagens have characteristic mutational signatures with some chemicals becoming mutagenic through cellular processes.\n",
        "\n",
        "**MUTAG** is a commonly used dataset for evaluating **graph classification algorithms**.\n",
        "\n",
        "Each graph in the dataset represents a chemical compound and graph labels represent their mutagenic effect on a specific gram negative bacterium\".\n",
        "\n",
        "MUTAG is a dataset of 188 graphs - mutagenic aromatic and heteroaromatic nitro compounds. It has 18 nodes and 20 edges on average for each graph. Graph nodes \n",
        "have 7 labels (i.e. all molecules contain atoms of 7 possible elements) and  each graph is labelled as belonging to 1 of 2 classes.\n",
        "\n",
        "We will run a graph classification task on this dataset using node information only."
      ],
      "metadata": {
        "id": "gM2hxU5jhTiS"
      }
    },
    {
      "cell_type": "code",
      "source": [
        "import dgl\n",
        "from dgl.data import DGLDataset\n",
        "\n",
        "dataset = dgl.data.GINDataset('MUTAG', False)"
      ],
      "metadata": {
        "colab": {
          "base_uri": "https://localhost:8080/"
        },
        "id": "SLRHHaItgnLc",
        "outputId": "5c0f2e86-42ff-4035-e937-7b7645f8814e"
      },
      "execution_count": 5,
      "outputs": [
        {
          "output_type": "stream",
          "name": "stdout",
          "text": [
            "Setting the default backend to \"pytorch\". You can change it in the ~/.dgl/config.json file or export the DGLBACKEND environment variable.  Valid options are: pytorch, mxnet, tensorflow (all lowercase)\n"
          ]
        },
        {
          "output_type": "stream",
          "name": "stderr",
          "text": [
            "DGL backend not selected or invalid.  Assuming PyTorch for now.\n",
            "Using backend: pytorch\n"
          ]
        },
        {
          "output_type": "stream",
          "name": "stdout",
          "text": [
            "Downloading /root/.dgl/GINDataset.zip from https://raw.githubusercontent.com/weihua916/powerful-gnns/master/dataset.zip...\n",
            "Extracting file to /root/.dgl/GINDataset\n"
          ]
        }
      ]
    },
    {
      "cell_type": "code",
      "source": [
        "print(\"Number of Node Features:\", dataset.dim_nfeats)\n",
        "print(\"Number of Node Classes:\", dataset.nclasses)\n",
        "print(\"Number of Graph Classes:\", dataset.gclasses)\n",
        "print(\"Total Number of Graphs:\", len(dataset.labels))\n",
        "print(\"Graph Labels:\", dataset.labels)\n",
        "print(\"Check first 5 graphs:\", dataset.graphs[:5])"
      ],
      "metadata": {
        "colab": {
          "base_uri": "https://localhost:8080/"
        },
        "id": "wwZT2_Wkh8T1",
        "outputId": "dac33c5b-c458-4560-a17d-e19a52dc281a"
      },
      "execution_count": 6,
      "outputs": [
        {
          "output_type": "stream",
          "name": "stdout",
          "text": [
            "Number of Node Features: 7\n",
            "Number of Node Classes: 7\n",
            "Number of Graph Classes: 2\n",
            "Total Number of Graphs: 188\n",
            "Graph Labels: tensor([0, 0, 0, 0, 0, 0, 0, 0, 0, 0, 0, 0, 0, 0, 0, 0, 0, 0, 0, 0, 0, 0, 0, 0,\n",
            "        0, 0, 0, 0, 0, 0, 0, 0, 0, 0, 0, 0, 0, 0, 0, 0, 0, 0, 0, 0, 0, 0, 0, 0,\n",
            "        0, 0, 0, 0, 0, 0, 0, 0, 0, 0, 0, 0, 0, 0, 0, 0, 0, 0, 0, 0, 0, 0, 0, 0,\n",
            "        0, 0, 0, 0, 0, 0, 0, 0, 0, 0, 0, 0, 0, 0, 0, 0, 0, 0, 0, 0, 0, 0, 0, 0,\n",
            "        0, 0, 0, 0, 0, 0, 0, 0, 0, 0, 0, 0, 0, 0, 0, 0, 0, 0, 0, 0, 0, 0, 0, 0,\n",
            "        0, 0, 0, 0, 0, 1, 1, 1, 1, 1, 1, 1, 1, 1, 1, 1, 1, 1, 1, 1, 1, 1, 1, 1,\n",
            "        1, 1, 1, 1, 1, 1, 1, 1, 1, 1, 1, 1, 1, 1, 1, 1, 1, 1, 1, 1, 1, 1, 1, 1,\n",
            "        1, 1, 1, 1, 1, 1, 1, 1, 1, 1, 1, 1, 1, 1, 1, 1, 1, 1, 1, 1])\n",
            "Check first 5 graphs: [Graph(num_nodes=23, num_edges=54,\n",
            "      ndata_schemes={'label': Scheme(shape=(), dtype=torch.int64), 'attr': Scheme(shape=(7,), dtype=torch.float32)}\n",
            "      edata_schemes={}), Graph(num_nodes=26, num_edges=56,\n",
            "      ndata_schemes={'label': Scheme(shape=(), dtype=torch.int64), 'attr': Scheme(shape=(7,), dtype=torch.float32)}\n",
            "      edata_schemes={}), Graph(num_nodes=19, num_edges=44,\n",
            "      ndata_schemes={'label': Scheme(shape=(), dtype=torch.int64), 'attr': Scheme(shape=(7,), dtype=torch.float32)}\n",
            "      edata_schemes={}), Graph(num_nodes=23, num_edges=54,\n",
            "      ndata_schemes={'label': Scheme(shape=(), dtype=torch.int64), 'attr': Scheme(shape=(7,), dtype=torch.float32)}\n",
            "      edata_schemes={}), Graph(num_nodes=17, num_edges=38,\n",
            "      ndata_schemes={'label': Scheme(shape=(), dtype=torch.int64), 'attr': Scheme(shape=(7,), dtype=torch.float32)}\n",
            "      edata_schemes={})]\n"
          ]
        }
      ]
    },
    {
      "cell_type": "code",
      "source": [
        "import networkx as nx\n",
        "\n",
        "# Each node (atom) in the graph (molecule) is one of 7 types. The label information \n",
        "# can be found with graph.ndata[\"label\"]\n",
        "labels = {0: \"C\", 1: \"N\" , 2: \"O\", 3: \"F\", 4: \"I\", 5: \"Cl\", 6: \"Br\"}\n",
        "\n",
        "# Define colors for the individual node classes\n",
        "colors = {0: \"#f39189\", 1: \"#00ffff\" , 2: \"#ff5e78\", 3: \"#ffc75f\", 4: \"#3a6351\", 5: \"#cdc733\", 6: \"#966c3b\"}\n",
        "\n",
        "# Try changing this to view different molecules\n",
        "index = 1\n",
        "g = dataset.graphs[index]\n",
        "mutagenic_label = dataset.labels[index]\n",
        "\n",
        "nx_g = g.to_networkx().to_undirected()\n",
        "pos = nx.kamada_kawai_layout(nx_g)\n",
        "node_labels = g.ndata['label']\n",
        "\n",
        "g_labels = {i: labels[node_labels[i].item()] for i in range(g.num_nodes())}\n",
        "nx.draw(nx_g, pos, labels=g_labels, with_labels=True, node_color=[colors[node_labels[i].item()] for i in range(g.num_nodes())])\n",
        "\n",
        "print(\"Mutagenic : {}\".format(True if mutagenic_label == 1 else False))"
      ],
      "metadata": {
        "colab": {
          "base_uri": "https://localhost:8080/",
          "height": 337
        },
        "id": "06IQX7Uwh_-X",
        "outputId": "93f33250-549e-469d-b386-5cf0970cd95c"
      },
      "execution_count": 7,
      "outputs": [
        {
          "output_type": "stream",
          "name": "stdout",
          "text": [
            "Mutagenic : False\n"
          ]
        },
        {
          "output_type": "display_data",
          "data": {
            "text/plain": [
              "<Figure size 432x288 with 1 Axes>"
            ],
            "image/png": "[encoded data removed]"
          },
          "metadata": {}
        }
      ]
    },
    {
      "cell_type": "code",
      "source": [
        "from sklearn.model_selection import train_test_split\n",
        "\n",
        "map = [(x, y.item()) for x, y in zip([x for x in range(0, len(dataset.labels))], dataset.labels)]\n",
        "df = pd.DataFrame(map, columns =['Index', 'Label'])\n",
        "train, test = train_test_split(df, stratify = df.Label, )\n",
        "\n",
        "train.reset_index(drop = True, inplace = True)\n",
        "test.reset_index(drop = True, inplace = True)"
      ],
      "metadata": {
        "id": "Gf6AcPtcAt57"
      },
      "execution_count": 32,
      "outputs": []
    },
    {
      "cell_type": "code",
      "source": [
        "train_data_tuples = list(train.itertuples(index=False, name=None))\n",
        "\n",
        "# Defining a data type for easy interface with training data. Just run the cell.\n",
        "class MluMutagDataset(DGLDataset):\n",
        "    def __init__(self, data_tuples):\n",
        "        self.data = list()\n",
        "        \n",
        "        for index, label in data_tuples:\n",
        "            self.data.append((dataset.graphs[index], label))\n",
        "        \n",
        "        self.len = len(data_tuples)\n",
        "        \n",
        "    def __getitem__(self, i):\n",
        "        return self.data[i]\n",
        "        \n",
        "    def __len__(self):\n",
        "        return self.len\n",
        "    \n",
        "train_val_set = MluMutagDataset(train_data_tuples)"
      ],
      "metadata": {
        "id": "nmnErq4QDSSy"
      },
      "execution_count": 33,
      "outputs": []
    },
    {
      "cell_type": "code",
      "source": [
        "#  Split train_val_set into training and validation sets\n",
        "from dgl.data.utils import split_dataset\n",
        "\n",
        "trainset, valset = split_dataset(train_val_set, [0.8, 0.2], shuffle=True, random_state=42)\n",
        "print(len(trainset), len(valset))    # Verify that this is an 80-20 split"
      ],
      "metadata": {
        "colab": {
          "base_uri": "https://localhost:8080/"
        },
        "id": "FuT5y6xJBM17",
        "outputId": "cb6bdcdf-0784-4a11-d29c-c9ac0520f7ab"
      },
      "execution_count": 34,
      "outputs": [
        {
          "output_type": "stream",
          "name": "stdout",
          "text": [
            "112 29\n"
          ]
        }
      ]
    },
    {
      "cell_type": "code",
      "source": [
        "from dgl.dataloading import GraphDataLoader\n",
        "trainloader = GraphDataLoader(   # Implement this\n",
        "    trainset,\n",
        "    batch_size=12,\n",
        "    drop_last=False,\n",
        "    shuffle=True)\n",
        "\n",
        "valloader = GraphDataLoader(    # Implement this\n",
        "    valset,\n",
        "    batch_size=12,\n",
        "    drop_last=False,\n",
        "    shuffle=True)"
      ],
      "metadata": {
        "id": "TuXGE9Wq-4_n"
      },
      "execution_count": 35,
      "outputs": []
    },
    {
      "cell_type": "code",
      "source": [
        "import dgl.nn.pytorch as dglnn\n",
        "import torch.nn as nn\n",
        "import dgl.function as fn\n",
        "\n",
        "class SimpleGCNClassifier(nn.Module):\n",
        "    def __init__(self, in_dim, hidden_dim, n_classes):\n",
        "        super(SimpleGCNClassifier, self).__init__()\n",
        "        self.conv = dglnn.GraphConv(in_dim, hidden_dim)\n",
        "        self.classify = nn.Sequential(nn.Linear(hidden_dim, 12),\n",
        "                                      nn.Linear(12, n_classes))\n",
        "\n",
        "    def forward(self, g, inputs):\n",
        "        # Apply graph convolution and activation.\n",
        "        h = F.relu(self.conv.forward(g, inputs))\n",
        "        with g.local_scope():\n",
        "            g.ndata['h'] = h\n",
        "            \n",
        "            # Calculate graph representation by average readout.\n",
        "            hg = dgl.mean_nodes(g, 'h')    # Equivalent to dgl.readout_nodes(g, 'h', op='mean')\n",
        "            return self.classify(hg)"
      ],
      "metadata": {
        "id": "ZhkeBvXJifG7"
      },
      "execution_count": 36,
      "outputs": []
    },
    {
      "cell_type": "code",
      "source": [
        "import torch.nn.functional as F\n",
        "\n",
        "\n",
        "# Only an example, 7 is the input feature size\n",
        "model = SimpleGCNClassifier(7, 25, 2)        # Instantiate the model you defined above here. \n",
        "                                             # If you answered the questions in the hints, you\n",
        "                                             # will immediately know what values to pass as arguments.\n",
        "        \n",
        "opt = torch.optim.Adam(model.parameters())   # Instantiate a predefined optimizer from torch.optim - this \n",
        "                                             # is the method that will be used to perform Gradient Descent.\n",
        "                                             # We recommend using Adam.\n",
        "\n",
        "for epoch in range(10):\n",
        "    model.train()               # Set the model to train mode to allow gradients to be calculated\n",
        "    cumulative_loss_train = 0.0 # Use this accumulate loss over an epoch and print it out at the end\n",
        "                                # to get an estimate for how well your model is performing\n",
        "    \n",
        "    for batched_graph, labels in trainloader:\n",
        "        features = batched_graph.ndata['attr']\n",
        "        logits = model.forward(batched_graph, features) # Pass the features through the network to get logits\n",
        "        loss = F.cross_entropy(logits, labels)  # Compute cross entropy loss. \n",
        "                                                # HINT : Use the loss functions defined within torch.nn.functional\n",
        "        \n",
        "        opt.zero_grad()         # Reset gradients for the next batch, since they accumulate by default\n",
        "        loss.backward()         # Backprop\n",
        "        opt.step()              # Update parameters\n",
        "        \n",
        "        cumulative_loss_train += loss.item()\n",
        "    \n",
        "    # Ideally you should see the cumulative loss decrease with each epoch\n",
        "    print(\"Epoch: {}\".format(epoch), cumulative_loss_train / len(trainloader))"
      ],
      "metadata": {
        "colab": {
          "base_uri": "https://localhost:8080/"
        },
        "id": "DY2c9gUrE3Tw",
        "outputId": "173d22bd-3638-436d-ca51-0467f65700e0"
      },
      "execution_count": 37,
      "outputs": [
        {
          "output_type": "stream",
          "name": "stdout",
          "text": [
            "Epoch: 0 0.7052957832813262\n",
            "Epoch: 1 0.6746338784694672\n",
            "Epoch: 2 0.6571440398693085\n",
            "Epoch: 3 0.6312776803970337\n",
            "Epoch: 4 0.6278996944427491\n",
            "Epoch: 5 0.6115631401538849\n",
            "Epoch: 6 0.6282592743635178\n",
            "Epoch: 7 0.6157881140708923\n",
            "Epoch: 8 0.6014562010765075\n",
            "Epoch: 9 0.6137156248092651\n"
          ]
        }
      ]
    },
    {
      "cell_type": "code",
      "source": [
        "with torch.no_grad():\n",
        "    \n",
        "    correct = 0\n",
        "    model.eval()\n",
        "    \n",
        "    for batched_graph, labels in valloader:\n",
        "        features = batched_graph.ndata['attr'] \n",
        "        logits = model.forward(batched_graph, features)    # This is the same as the training loop\n",
        "        \n",
        "        # Logits is a tensor comprising other tensors of 2 elements each. These 2 elements are indicative of (not\n",
        "        # but not exactly equal to) the probability of the label 0 / 1 for the graph at that index.\n",
        "        # The actual label for each graph will be equal to the index which has the maximum value among the 2 elements.\n",
        "        # HINT : argmax\n",
        "        _, predicted = torch.max(logits.data, 1)           \n",
        "        \n",
        "        print(predicted)    # It is recommended to keep this to verify if your training has worked \n",
        "                            # and the model is not simply predicting one label for every example.\n",
        "\n",
        "        correct += (predicted == labels.data).sum().item()\n",
        "    \n",
        "    print(len(valset))\n",
        "    acc = correct / len(valset)\n",
        "\n",
        "print('Validation Accuracy: %f' % (acc*100))"
      ],
      "metadata": {
        "colab": {
          "base_uri": "https://localhost:8080/"
        },
        "id": "bnNgwTUZE6s2",
        "outputId": "8cd19b9d-a72b-451a-c405-4931402f93f3"
      },
      "execution_count": 38,
      "outputs": [
        {
          "output_type": "stream",
          "name": "stdout",
          "text": [
            "tensor([0, 0, 0, 0, 0, 0, 0, 0, 0, 0, 0, 0])\n",
            "tensor([0, 0, 0, 0, 0, 0, 0, 0, 0, 0, 0, 0])\n",
            "tensor([0, 0, 0, 0, 0])\n",
            "29\n",
            "Validation Accuracy: 58.620690\n"
          ]
        }
      ]
    },
    {
      "cell_type": "code",
      "source": [
        "test_indices = test['Index'].tolist()\n",
        "print(len(test_indices))"
      ],
      "metadata": {
        "colab": {
          "base_uri": "https://localhost:8080/"
        },
        "id": "xs1QzN-uFAt6",
        "outputId": "3fe42d8c-39ed-4ee2-c8a3-60976b7d173c"
      },
      "execution_count": 39,
      "outputs": [
        {
          "output_type": "stream",
          "name": "stdout",
          "text": [
            "47\n"
          ]
        }
      ]
    },
    {
      "cell_type": "code",
      "source": [
        "def write_to_file(predictions):\n",
        "    with open('submission.csv','w') as out:\n",
        "        csv_out = csv.writer(out)\n",
        "        csv_out.writerow(['ID','Label'])\n",
        "        for index, label in predictions:\n",
        "            csv_out.writerow((index, label))\n",
        "            \n",
        "\n",
        "# Not using dataloader for graphs\n",
        "with torch.no_grad():\n",
        "    \n",
        "    model.eval()\n",
        "    predictions = []\n",
        "    \n",
        "    # Predict one at a time\n",
        "    for index in test_indices:\n",
        "        graph = dataset.graphs[index]\n",
        "        features = graph.ndata['attr']\n",
        "        output = model.forward(graph, features)\n",
        "        _, predicted_labels = torch.max(output.data, 1)\n",
        "        \n",
        "        predictions.append((index, predicted_labels.item()))\n",
        "        \n",
        "    # Save to file\n",
        "    write_to_file(predictions) \n",
        "\n",
        "print(len(predictions))\n",
        "print(predictions)"
      ],
      "metadata": {
        "colab": {
          "base_uri": "https://localhost:8080/"
        },
        "id": "yulSQ1kUFK3B",
        "outputId": "1f62e94f-4e61-4fa6-d512-9c9542913e70"
      },
      "execution_count": 42,
      "outputs": [
        {
          "output_type": "stream",
          "name": "stdout",
          "text": [
            "47\n",
            "[(110, 0), (155, 0), (106, 0), (160, 0), (63, 0), (122, 0), (86, 0), (82, 0), (0, 0), (34, 0), (14, 0), (173, 0), (147, 0), (52, 0), (107, 0), (12, 0), (168, 0), (77, 0), (162, 0), (100, 0), (31, 0), (39, 0), (177, 0), (131, 0), (23, 0), (65, 0), (19, 0), (172, 0), (33, 0), (129, 0), (78, 0), (45, 0), (2, 0), (114, 0), (184, 0), (57, 0), (74, 0), (32, 0), (22, 0), (130, 0), (149, 0), (119, 0), (98, 0), (138, 0), (29, 0), (135, 0), (175, 0)]\n"
          ]
        }
      ]
    },
    {
      "cell_type": "code",
      "source": [
        ""
      ],
      "metadata": {
        "id": "hRQUhYwOFPbK"
      },
      "execution_count": null,
      "outputs": []
    }
  ]
}